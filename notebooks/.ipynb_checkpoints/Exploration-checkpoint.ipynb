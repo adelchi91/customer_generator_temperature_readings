{
 "cells": [
  {
   "cell_type": "code",
   "execution_count": 1,
   "id": "f75fffe3-7f05-4df2-9cf1-0948690253dd",
   "metadata": {},
   "outputs": [],
   "source": [
    "import pandas as pd"
   ]
  },
  {
   "cell_type": "code",
   "execution_count": 2,
   "id": "302cb766-bbcd-48bd-927d-268b8d076934",
   "metadata": {},
   "outputs": [
    {
     "name": "stdout",
     "output_type": "stream",
     "text": [
      "CustomerData_LeadGenerator.csv\n",
      "sample_temperature_data_for_coding_challenge.csv\n"
     ]
    }
   ],
   "source": [
    "!ls ../data/"
   ]
  },
  {
   "cell_type": "code",
   "execution_count": 4,
   "id": "19776c01-4f4c-43f4-90c6-f58a81434597",
   "metadata": {},
   "outputs": [],
   "source": [
    "df1 = pd.read_csv('../data/CustomerData_LeadGenerator.csv')\n",
    "df2 = pd.read_csv('../data/sample_temperature_data_for_coding_challenge.csv')"
   ]
  },
  {
   "cell_type": "code",
   "execution_count": 5,
   "id": "b6b4ae41-5222-4d55-ae56-ab9343b73720",
   "metadata": {},
   "outputs": [
    {
     "data": {
      "text/html": [
       "<div>\n",
       "<style scoped>\n",
       "    .dataframe tbody tr th:only-of-type {\n",
       "        vertical-align: middle;\n",
       "    }\n",
       "\n",
       "    .dataframe tbody tr th {\n",
       "        vertical-align: top;\n",
       "    }\n",
       "\n",
       "    .dataframe thead th {\n",
       "        text-align: right;\n",
       "    }\n",
       "</style>\n",
       "<table border=\"1\" class=\"dataframe\">\n",
       "  <thead>\n",
       "    <tr style=\"text-align: right;\">\n",
       "      <th></th>\n",
       "      <th>fakeID</th>\n",
       "      <th>b_specialisation_i</th>\n",
       "      <th>b_specialisation_h</th>\n",
       "      <th>b_specialisation_g</th>\n",
       "      <th>b_specialisation_f</th>\n",
       "      <th>b_specialisation_e</th>\n",
       "      <th>b_specialisation_d</th>\n",
       "      <th>b_specialisation_c</th>\n",
       "      <th>b_specialisation_b</th>\n",
       "      <th>b_specialisation_a</th>\n",
       "      <th>...</th>\n",
       "      <th>q_5th Quint by Total HH</th>\n",
       "      <th>q_2017 Purchasing Power: Per Capita</th>\n",
       "      <th>q_2017 Total Population</th>\n",
       "      <th>q_2017 Pop 15+/Edu: University, Fachhochschule</th>\n",
       "      <th>q_Uni by Total Pop</th>\n",
       "      <th>q_2017 Personal Care: Per Capita</th>\n",
       "      <th>q_2017 Medical Products: Per Capita</th>\n",
       "      <th>q_2017 Personal Effects: Per Capita</th>\n",
       "      <th>b_in_kontakt_gewesen</th>\n",
       "      <th>b_gekauft_gesamt</th>\n",
       "    </tr>\n",
       "  </thead>\n",
       "  <tbody>\n",
       "    <tr>\n",
       "      <th>0</th>\n",
       "      <td>1069_7334</td>\n",
       "      <td>0</td>\n",
       "      <td>0</td>\n",
       "      <td>0</td>\n",
       "      <td>0</td>\n",
       "      <td>0</td>\n",
       "      <td>0</td>\n",
       "      <td>0</td>\n",
       "      <td>0</td>\n",
       "      <td>0</td>\n",
       "      <td>...</td>\n",
       "      <td>0.186735</td>\n",
       "      <td>23730.35</td>\n",
       "      <td>2194057</td>\n",
       "      <td>324656</td>\n",
       "      <td>0.147971</td>\n",
       "      <td>593.19</td>\n",
       "      <td>326.28</td>\n",
       "      <td>235.75</td>\n",
       "      <td>1</td>\n",
       "      <td>1</td>\n",
       "    </tr>\n",
       "    <tr>\n",
       "      <th>1</th>\n",
       "      <td>328_2350</td>\n",
       "      <td>0</td>\n",
       "      <td>0</td>\n",
       "      <td>0</td>\n",
       "      <td>1</td>\n",
       "      <td>1</td>\n",
       "      <td>1</td>\n",
       "      <td>0</td>\n",
       "      <td>0</td>\n",
       "      <td>0</td>\n",
       "      <td>...</td>\n",
       "      <td>0.179848</td>\n",
       "      <td>23343.26</td>\n",
       "      <td>1966798</td>\n",
       "      <td>281130</td>\n",
       "      <td>0.142938</td>\n",
       "      <td>588.54</td>\n",
       "      <td>320.36</td>\n",
       "      <td>230.66</td>\n",
       "      <td>1</td>\n",
       "      <td>1</td>\n",
       "    </tr>\n",
       "    <tr>\n",
       "      <th>2</th>\n",
       "      <td>865_6285</td>\n",
       "      <td>0</td>\n",
       "      <td>0</td>\n",
       "      <td>0</td>\n",
       "      <td>1</td>\n",
       "      <td>0</td>\n",
       "      <td>1</td>\n",
       "      <td>0</td>\n",
       "      <td>0</td>\n",
       "      <td>0</td>\n",
       "      <td>...</td>\n",
       "      <td>0.184935</td>\n",
       "      <td>23674.18</td>\n",
       "      <td>2149624</td>\n",
       "      <td>320326</td>\n",
       "      <td>0.149015</td>\n",
       "      <td>592.88</td>\n",
       "      <td>325.57</td>\n",
       "      <td>234.82</td>\n",
       "      <td>1</td>\n",
       "      <td>1</td>\n",
       "    </tr>\n",
       "    <tr>\n",
       "      <th>3</th>\n",
       "      <td>47_307</td>\n",
       "      <td>0</td>\n",
       "      <td>1</td>\n",
       "      <td>1</td>\n",
       "      <td>0</td>\n",
       "      <td>0</td>\n",
       "      <td>0</td>\n",
       "      <td>0</td>\n",
       "      <td>0</td>\n",
       "      <td>0</td>\n",
       "      <td>...</td>\n",
       "      <td>0.184523</td>\n",
       "      <td>23572.26</td>\n",
       "      <td>2161445</td>\n",
       "      <td>310981</td>\n",
       "      <td>0.143876</td>\n",
       "      <td>590.84</td>\n",
       "      <td>324.06</td>\n",
       "      <td>233.81</td>\n",
       "      <td>1</td>\n",
       "      <td>0</td>\n",
       "    </tr>\n",
       "    <tr>\n",
       "      <th>4</th>\n",
       "      <td>342_2513</td>\n",
       "      <td>0</td>\n",
       "      <td>0</td>\n",
       "      <td>0</td>\n",
       "      <td>0</td>\n",
       "      <td>0</td>\n",
       "      <td>1</td>\n",
       "      <td>0</td>\n",
       "      <td>0</td>\n",
       "      <td>0</td>\n",
       "      <td>...</td>\n",
       "      <td>0.189871</td>\n",
       "      <td>23821.63</td>\n",
       "      <td>2302959</td>\n",
       "      <td>334940</td>\n",
       "      <td>0.145439</td>\n",
       "      <td>593.56</td>\n",
       "      <td>327.75</td>\n",
       "      <td>237.41</td>\n",
       "      <td>1</td>\n",
       "      <td>1</td>\n",
       "    </tr>\n",
       "  </tbody>\n",
       "</table>\n",
       "<p>5 rows × 26 columns</p>\n",
       "</div>"
      ],
      "text/plain": [
       "      fakeID  b_specialisation_i  b_specialisation_h  b_specialisation_g  \\\n",
       "0  1069_7334                   0                   0                   0   \n",
       "1   328_2350                   0                   0                   0   \n",
       "2   865_6285                   0                   0                   0   \n",
       "3     47_307                   0                   1                   1   \n",
       "4   342_2513                   0                   0                   0   \n",
       "\n",
       "   b_specialisation_f  b_specialisation_e  b_specialisation_d  \\\n",
       "0                   0                   0                   0   \n",
       "1                   1                   1                   1   \n",
       "2                   1                   0                   1   \n",
       "3                   0                   0                   0   \n",
       "4                   0                   0                   1   \n",
       "\n",
       "   b_specialisation_c  b_specialisation_b  b_specialisation_a  ...  \\\n",
       "0                   0                   0                   0  ...   \n",
       "1                   0                   0                   0  ...   \n",
       "2                   0                   0                   0  ...   \n",
       "3                   0                   0                   0  ...   \n",
       "4                   0                   0                   0  ...   \n",
       "\n",
       "   q_5th Quint by Total HH  q_2017 Purchasing Power: Per Capita  \\\n",
       "0                 0.186735                             23730.35   \n",
       "1                 0.179848                             23343.26   \n",
       "2                 0.184935                             23674.18   \n",
       "3                 0.184523                             23572.26   \n",
       "4                 0.189871                             23821.63   \n",
       "\n",
       "  q_2017 Total Population  q_2017 Pop 15+/Edu: University, Fachhochschule  \\\n",
       "0                 2194057                                          324656   \n",
       "1                 1966798                                          281130   \n",
       "2                 2149624                                          320326   \n",
       "3                 2161445                                          310981   \n",
       "4                 2302959                                          334940   \n",
       "\n",
       "   q_Uni by Total Pop  q_2017 Personal Care: Per Capita  \\\n",
       "0            0.147971                            593.19   \n",
       "1            0.142938                            588.54   \n",
       "2            0.149015                            592.88   \n",
       "3            0.143876                            590.84   \n",
       "4            0.145439                            593.56   \n",
       "\n",
       "   q_2017 Medical Products: Per Capita  q_2017 Personal Effects: Per Capita  \\\n",
       "0                               326.28                               235.75   \n",
       "1                               320.36                               230.66   \n",
       "2                               325.57                               234.82   \n",
       "3                               324.06                               233.81   \n",
       "4                               327.75                               237.41   \n",
       "\n",
       "   b_in_kontakt_gewesen  b_gekauft_gesamt  \n",
       "0                     1                 1  \n",
       "1                     1                 1  \n",
       "2                     1                 1  \n",
       "3                     1                 0  \n",
       "4                     1                 1  \n",
       "\n",
       "[5 rows x 26 columns]"
      ]
     },
     "execution_count": 5,
     "metadata": {},
     "output_type": "execute_result"
    }
   ],
   "source": [
    "df1.head()"
   ]
  },
  {
   "cell_type": "code",
   "execution_count": 8,
   "id": "ab3ccf4d-5f2a-4bf8-aa00-d6c8ee3cbbbf",
   "metadata": {},
   "outputs": [
    {
     "data": {
      "text/html": [
       "<div>\n",
       "<style scoped>\n",
       "    .dataframe tbody tr th:only-of-type {\n",
       "        vertical-align: middle;\n",
       "    }\n",
       "\n",
       "    .dataframe tbody tr th {\n",
       "        vertical-align: top;\n",
       "    }\n",
       "\n",
       "    .dataframe thead th {\n",
       "        text-align: right;\n",
       "    }\n",
       "</style>\n",
       "<table border=\"1\" class=\"dataframe\">\n",
       "  <thead>\n",
       "    <tr style=\"text-align: right;\">\n",
       "      <th></th>\n",
       "      <th>source_id</th>\n",
       "      <th>datetime</th>\n",
       "      <th>property_name</th>\n",
       "      <th>temperature</th>\n",
       "    </tr>\n",
       "  </thead>\n",
       "  <tbody>\n",
       "    <tr>\n",
       "      <th>0</th>\n",
       "      <td>MICDEV001</td>\n",
       "      <td>2019-04-13T17:51:16.000+0000</td>\n",
       "      <td>heating_temperature</td>\n",
       "      <td>33.3</td>\n",
       "    </tr>\n",
       "    <tr>\n",
       "      <th>1</th>\n",
       "      <td>MICDEV001</td>\n",
       "      <td>2019-04-13T17:51:16.000+0000</td>\n",
       "      <td>cooling_temperature</td>\n",
       "      <td>15.0</td>\n",
       "    </tr>\n",
       "    <tr>\n",
       "      <th>2</th>\n",
       "      <td>MICDEV001</td>\n",
       "      <td>2019-04-13T18:51:18.000+0000</td>\n",
       "      <td>heating_temperature</td>\n",
       "      <td>34.0</td>\n",
       "    </tr>\n",
       "    <tr>\n",
       "      <th>3</th>\n",
       "      <td>MICDEV001</td>\n",
       "      <td>2019-04-13T19:51:20.000+0000</td>\n",
       "      <td>heating_temperature</td>\n",
       "      <td>33.8</td>\n",
       "    </tr>\n",
       "    <tr>\n",
       "      <th>4</th>\n",
       "      <td>MICDEV001</td>\n",
       "      <td>2019-04-13T20:51:21.000+0000</td>\n",
       "      <td>heating_temperature</td>\n",
       "      <td>34.2</td>\n",
       "    </tr>\n",
       "  </tbody>\n",
       "</table>\n",
       "</div>"
      ],
      "text/plain": [
       "   source_id                      datetime        property_name  temperature\n",
       "0  MICDEV001  2019-04-13T17:51:16.000+0000  heating_temperature         33.3\n",
       "1  MICDEV001  2019-04-13T17:51:16.000+0000  cooling_temperature         15.0\n",
       "2  MICDEV001  2019-04-13T18:51:18.000+0000  heating_temperature         34.0\n",
       "3  MICDEV001  2019-04-13T19:51:20.000+0000  heating_temperature         33.8\n",
       "4  MICDEV001  2019-04-13T20:51:21.000+0000  heating_temperature         34.2"
      ]
     },
     "execution_count": 8,
     "metadata": {},
     "output_type": "execute_result"
    }
   ],
   "source": [
    "df2.head()"
   ]
  },
  {
   "cell_type": "code",
   "execution_count": 11,
   "id": "b50be765-7fbc-488c-b043-378b4620d947",
   "metadata": {},
   "outputs": [
    {
     "data": {
      "text/plain": [
       "property_name\n",
       "heating_temperature    699\n",
       "cooling_temperature    301\n",
       "Name: count, dtype: int64"
      ]
     },
     "execution_count": 11,
     "metadata": {},
     "output_type": "execute_result"
    }
   ],
   "source": [
    "df2.property_name.value_counts()"
   ]
  },
  {
   "cell_type": "code",
   "execution_count": 13,
   "id": "c5a13c5e-33f8-417d-8639-d65d6d17d028",
   "metadata": {},
   "outputs": [
    {
     "data": {
      "text/plain": [
       "0"
      ]
     },
     "execution_count": 13,
     "metadata": {},
     "output_type": "execute_result"
    }
   ],
   "source": [
    "df2.temperature.isna().sum()"
   ]
  },
  {
   "cell_type": "code",
   "execution_count": 18,
   "id": "4f7f5ff3-484c-472a-b89f-5ca9f4b8aca7",
   "metadata": {},
   "outputs": [
    {
     "data": {
      "text/plain": [
       "b_in_kontakt_gewesen\n",
       "0    3678\n",
       "1      95\n",
       "Name: count, dtype: int64"
      ]
     },
     "execution_count": 18,
     "metadata": {},
     "output_type": "execute_result"
    }
   ],
   "source": [
    "df1.b_in_kontakt_gewesen.value_counts()"
   ]
  },
  {
   "cell_type": "code",
   "execution_count": 17,
   "id": "79df2340-93ce-4db2-9ba0-c6956e8bea06",
   "metadata": {},
   "outputs": [
    {
     "data": {
      "text/plain": [
       "b_gekauft_gesamt\n",
       "0    0.984893\n",
       "1    0.015107\n",
       "Name: proportion, dtype: float64"
      ]
     },
     "execution_count": 17,
     "metadata": {},
     "output_type": "execute_result"
    }
   ],
   "source": [
    "df1.b_gekauft_gesamt.value_counts()"
   ]
  },
  {
   "cell_type": "code",
   "execution_count": 19,
   "id": "8a19d35d-da31-4ee7-abee-4b43e7a5562e",
   "metadata": {},
   "outputs": [
    {
     "data": {
      "text/plain": [
       "Index(['fakeID', 'b_specialisation_i', 'b_specialisation_h',\n",
       "       'b_specialisation_g', 'b_specialisation_f', 'b_specialisation_e',\n",
       "       'b_specialisation_d', 'b_specialisation_c', 'b_specialisation_b',\n",
       "       'b_specialisation_a', 'b_specialisation_j', 'q_OpeningDays',\n",
       "       'q_OpeningHours', 'q_2017 Average Household Size',\n",
       "       'q_2017 Total Households',\n",
       "       'q_2017 HHs: 5th Quintile (68.759 and above)',\n",
       "       'q_5th Quint by Total HH', 'q_2017 Purchasing Power: Per Capita',\n",
       "       'q_2017 Total Population',\n",
       "       'q_2017 Pop 15+/Edu: University, Fachhochschule', 'q_Uni by Total Pop',\n",
       "       'q_2017 Personal Care: Per Capita',\n",
       "       'q_2017 Medical Products: Per Capita',\n",
       "       'q_2017 Personal Effects: Per Capita', 'b_in_kontakt_gewesen',\n",
       "       'b_gekauft_gesamt'],\n",
       "      dtype='object')"
      ]
     },
     "execution_count": 19,
     "metadata": {},
     "output_type": "execute_result"
    }
   ],
   "source": [
    "df1.columns"
   ]
  }
 ],
 "metadata": {
  "kernelspec": {
   "display_name": "Python 3 (ipykernel)",
   "language": "python",
   "name": "python3"
  },
  "language_info": {
   "codemirror_mode": {
    "name": "ipython",
    "version": 3
   },
   "file_extension": ".py",
   "mimetype": "text/x-python",
   "name": "python",
   "nbconvert_exporter": "python",
   "pygments_lexer": "ipython3",
   "version": "3.11.8"
  }
 },
 "nbformat": 4,
 "nbformat_minor": 5
}
